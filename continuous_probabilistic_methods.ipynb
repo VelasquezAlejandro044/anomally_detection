{
 "cells": [
  {
   "cell_type": "markdown",
   "id": "1949400d",
   "metadata": {},
   "source": [
    "# Continuous Probabilistic Methods"
   ]
  },
  {
   "cell_type": "code",
   "execution_count": 1,
   "id": "47d990e3",
   "metadata": {},
   "outputs": [],
   "source": [
    "import requests\n",
    "import pandas as pd\n",
    "import numpy as np\n",
    "import seaborn as sns\n",
    "import matplotlib.pyplot as plt\n",
    "%matplotlib inline"
   ]
  },
  {
   "cell_type": "markdown",
   "id": "ef3f4b9f",
   "metadata": {},
   "source": [
    "Define a function named get_lower_and_upper_bounds that has two arguments. The first argument is a pandas Series. The second argument is the multiplier, which should have a default argument of 1.5."
   ]
  },
  {
   "cell_type": "code",
   "execution_count": 2,
   "id": "34237337",
   "metadata": {},
   "outputs": [],
   "source": [
    "def get_lower_and_upper_bounds(pd_series, multiplier = 1.5):\n",
    "    \"\"\"\n",
    "    It creates the lower and the upper bounds of a series with a default multiplier of 1.5\n",
    "    \"\"\"\n",
    "    #\n",
    "    q1 = pd_series.quantile(0.25)\n",
    "    q3 = pd_series.quantile(0.75)\n",
    "    # calculate iqr\n",
    "    iqr = q3 - q1\n",
    "    # calculate upper and lower limits for the whiskers\n",
    "    inner_lower_fence = q1 - (multiplier * iqr)\n",
    "    inner_upper_fence = q3 + (multiplier * iqr)\n",
    "    return inner_lower_fence, inner_upper_fence "
   ]
  },
  {
   "cell_type": "markdown",
   "id": "7d14bd85",
   "metadata": {},
   "source": [
    "--------------------------\n",
    "# 1 \n",
    "Using lemonade.csv dataset and focusing on continuous variables:"
   ]
  },
  {
   "cell_type": "code",
   "execution_count": 3,
   "id": "297a7a18",
   "metadata": {},
   "outputs": [],
   "source": [
    "# set a variable named URL where we place the HTTPS as a string \n",
    "url = 'https://gist.githubusercontent.com/ryanorsinger/19bc7eccd6279661bd13307026628ace/raw/e4b5d6787015a4782f96cad6d1d62a8bdbac54c7/lemonade.csv'"
   ]
  },
  {
   "cell_type": "code",
   "execution_count": 4,
   "id": "e493005f",
   "metadata": {
    "scrolled": true
   },
   "outputs": [
    {
     "data": {
      "text/html": [
       "<div>\n",
       "<style scoped>\n",
       "    .dataframe tbody tr th:only-of-type {\n",
       "        vertical-align: middle;\n",
       "    }\n",
       "\n",
       "    .dataframe tbody tr th {\n",
       "        vertical-align: top;\n",
       "    }\n",
       "\n",
       "    .dataframe thead th {\n",
       "        text-align: right;\n",
       "    }\n",
       "</style>\n",
       "<table border=\"1\" class=\"dataframe\">\n",
       "  <thead>\n",
       "    <tr style=\"text-align: right;\">\n",
       "      <th></th>\n",
       "      <th>Date</th>\n",
       "      <th>Day</th>\n",
       "      <th>Temperature</th>\n",
       "      <th>Rainfall</th>\n",
       "      <th>Flyers</th>\n",
       "      <th>Price</th>\n",
       "      <th>Sales</th>\n",
       "    </tr>\n",
       "  </thead>\n",
       "  <tbody>\n",
       "    <tr>\n",
       "      <th>0</th>\n",
       "      <td>1/1/17</td>\n",
       "      <td>Sunday</td>\n",
       "      <td>27.0</td>\n",
       "      <td>2.00</td>\n",
       "      <td>15</td>\n",
       "      <td>0.5</td>\n",
       "      <td>10</td>\n",
       "    </tr>\n",
       "    <tr>\n",
       "      <th>1</th>\n",
       "      <td>1/2/17</td>\n",
       "      <td>Monday</td>\n",
       "      <td>28.9</td>\n",
       "      <td>1.33</td>\n",
       "      <td>15</td>\n",
       "      <td>0.5</td>\n",
       "      <td>13</td>\n",
       "    </tr>\n",
       "    <tr>\n",
       "      <th>2</th>\n",
       "      <td>1/3/17</td>\n",
       "      <td>Tuesday</td>\n",
       "      <td>34.5</td>\n",
       "      <td>1.33</td>\n",
       "      <td>27</td>\n",
       "      <td>0.5</td>\n",
       "      <td>15</td>\n",
       "    </tr>\n",
       "    <tr>\n",
       "      <th>3</th>\n",
       "      <td>1/4/17</td>\n",
       "      <td>Wednesday</td>\n",
       "      <td>44.1</td>\n",
       "      <td>1.05</td>\n",
       "      <td>28</td>\n",
       "      <td>0.5</td>\n",
       "      <td>17</td>\n",
       "    </tr>\n",
       "    <tr>\n",
       "      <th>4</th>\n",
       "      <td>1/5/17</td>\n",
       "      <td>Thursday</td>\n",
       "      <td>42.4</td>\n",
       "      <td>1.00</td>\n",
       "      <td>33</td>\n",
       "      <td>0.5</td>\n",
       "      <td>18</td>\n",
       "    </tr>\n",
       "  </tbody>\n",
       "</table>\n",
       "</div>"
      ],
      "text/plain": [
       "     Date        Day  Temperature  Rainfall  Flyers  Price  Sales\n",
       "0  1/1/17     Sunday         27.0      2.00      15    0.5     10\n",
       "1  1/2/17     Monday         28.9      1.33      15    0.5     13\n",
       "2  1/3/17    Tuesday         34.5      1.33      27    0.5     15\n",
       "3  1/4/17  Wednesday         44.1      1.05      28    0.5     17\n",
       "4  1/5/17   Thursday         42.4      1.00      33    0.5     18"
      ]
     },
     "execution_count": 4,
     "metadata": {},
     "output_type": "execute_result"
    }
   ],
   "source": [
    "# Reed data as a apnda dataferame especifing the delimiter in order to create tabular data\n",
    "df = pd.read_csv(url,sep=\",\") # use sep=\",\" for coma separation. \n",
    "df.head()\n"
   ]
  },
  {
   "cell_type": "code",
   "execution_count": 5,
   "id": "ca4628d2",
   "metadata": {},
   "outputs": [],
   "source": [
    "# Change the mame of the columns to lower case\n",
    "df.columns = df.columns.str.lower()"
   ]
  },
  {
   "cell_type": "code",
   "execution_count": 6,
   "id": "97316b9a",
   "metadata": {
    "scrolled": false
   },
   "outputs": [
    {
     "data": {
      "text/html": [
       "<div>\n",
       "<style scoped>\n",
       "    .dataframe tbody tr th:only-of-type {\n",
       "        vertical-align: middle;\n",
       "    }\n",
       "\n",
       "    .dataframe tbody tr th {\n",
       "        vertical-align: top;\n",
       "    }\n",
       "\n",
       "    .dataframe thead th {\n",
       "        text-align: right;\n",
       "    }\n",
       "</style>\n",
       "<table border=\"1\" class=\"dataframe\">\n",
       "  <thead>\n",
       "    <tr style=\"text-align: right;\">\n",
       "      <th></th>\n",
       "      <th>temperature</th>\n",
       "      <th>rainfall</th>\n",
       "      <th>flyers</th>\n",
       "      <th>price</th>\n",
       "      <th>sales</th>\n",
       "    </tr>\n",
       "  </thead>\n",
       "  <tbody>\n",
       "    <tr>\n",
       "      <th>count</th>\n",
       "      <td>365.000000</td>\n",
       "      <td>365.000000</td>\n",
       "      <td>365.000000</td>\n",
       "      <td>365.0</td>\n",
       "      <td>365.000000</td>\n",
       "    </tr>\n",
       "    <tr>\n",
       "      <th>mean</th>\n",
       "      <td>61.224658</td>\n",
       "      <td>0.825973</td>\n",
       "      <td>40.104110</td>\n",
       "      <td>0.5</td>\n",
       "      <td>27.865753</td>\n",
       "    </tr>\n",
       "    <tr>\n",
       "      <th>std</th>\n",
       "      <td>18.085892</td>\n",
       "      <td>0.273890</td>\n",
       "      <td>13.786445</td>\n",
       "      <td>0.0</td>\n",
       "      <td>30.948132</td>\n",
       "    </tr>\n",
       "    <tr>\n",
       "      <th>min</th>\n",
       "      <td>15.100000</td>\n",
       "      <td>0.400000</td>\n",
       "      <td>-38.000000</td>\n",
       "      <td>0.5</td>\n",
       "      <td>7.000000</td>\n",
       "    </tr>\n",
       "    <tr>\n",
       "      <th>25%</th>\n",
       "      <td>49.700000</td>\n",
       "      <td>0.650000</td>\n",
       "      <td>31.000000</td>\n",
       "      <td>0.5</td>\n",
       "      <td>20.000000</td>\n",
       "    </tr>\n",
       "    <tr>\n",
       "      <th>50%</th>\n",
       "      <td>61.100000</td>\n",
       "      <td>0.740000</td>\n",
       "      <td>39.000000</td>\n",
       "      <td>0.5</td>\n",
       "      <td>25.000000</td>\n",
       "    </tr>\n",
       "    <tr>\n",
       "      <th>75%</th>\n",
       "      <td>71.700000</td>\n",
       "      <td>0.910000</td>\n",
       "      <td>49.000000</td>\n",
       "      <td>0.5</td>\n",
       "      <td>30.000000</td>\n",
       "    </tr>\n",
       "    <tr>\n",
       "      <th>max</th>\n",
       "      <td>212.000000</td>\n",
       "      <td>2.500000</td>\n",
       "      <td>80.000000</td>\n",
       "      <td>0.5</td>\n",
       "      <td>534.000000</td>\n",
       "    </tr>\n",
       "  </tbody>\n",
       "</table>\n",
       "</div>"
      ],
      "text/plain": [
       "       temperature    rainfall      flyers  price       sales\n",
       "count   365.000000  365.000000  365.000000  365.0  365.000000\n",
       "mean     61.224658    0.825973   40.104110    0.5   27.865753\n",
       "std      18.085892    0.273890   13.786445    0.0   30.948132\n",
       "min      15.100000    0.400000  -38.000000    0.5    7.000000\n",
       "25%      49.700000    0.650000   31.000000    0.5   20.000000\n",
       "50%      61.100000    0.740000   39.000000    0.5   25.000000\n",
       "75%      71.700000    0.910000   49.000000    0.5   30.000000\n",
       "max     212.000000    2.500000   80.000000    0.5  534.000000"
      ]
     },
     "execution_count": 6,
     "metadata": {},
     "output_type": "execute_result"
    }
   ],
   "source": [
    "df.describe()"
   ]
  },
  {
   "cell_type": "code",
   "execution_count": 7,
   "id": "7721b7e7",
   "metadata": {},
   "outputs": [],
   "source": [
    "# Set the date colium as the index \n",
    "df.date = pd.to_datetime(df.date)\n",
    "df = df.set_index(\"date\")"
   ]
  },
  {
   "cell_type": "code",
   "execution_count": 8,
   "id": "c14f2809",
   "metadata": {},
   "outputs": [],
   "source": [
    "# create colum that references the month \n",
    "df[\"month\"] = df.index.month_name()"
   ]
  },
  {
   "cell_type": "markdown",
   "id": "75ba9bf1",
   "metadata": {},
   "source": [
    "# EDA "
   ]
  },
  {
   "cell_type": "markdown",
   "id": "ed89cfbe",
   "metadata": {},
   "source": [
    "# Takeaway\n",
    "- There is a few outliers\n",
    "    - Outliers mainly happened during the summer month\n",
    "    -  December my also experience outliers"
   ]
  },
  {
   "cell_type": "code",
   "execution_count": null,
   "id": "42a322f0",
   "metadata": {},
   "outputs": [],
   "source": []
  },
  {
   "cell_type": "markdown",
   "id": "b83ee3cf",
   "metadata": {},
   "source": [
    "\n",
    "\n",
    "# 1.1\n",
    "Use the IQR Range Rule and the upper and lower bounds to identify the lower outliers of each column of lemonade.csv, using the multiplier of 1.5. Do these lower outliers make sense? Which outliers should be kept?"
   ]
  },
  {
   "cell_type": "code",
   "execution_count": 14,
   "id": "f69f21b6",
   "metadata": {},
   "outputs": [],
   "source": [
    "# set upper and lower bound fot df.temperature\n",
    "temp_lower, temp_upper = get_lower_and_upper_bounds(df.temperature)"
   ]
  },
  {
   "cell_type": "code",
   "execution_count": 15,
   "id": "33cae453",
   "metadata": {},
   "outputs": [
    {
     "data": {
      "text/html": [
       "<div>\n",
       "<style scoped>\n",
       "    .dataframe tbody tr th:only-of-type {\n",
       "        vertical-align: middle;\n",
       "    }\n",
       "\n",
       "    .dataframe tbody tr th {\n",
       "        vertical-align: top;\n",
       "    }\n",
       "\n",
       "    .dataframe thead th {\n",
       "        text-align: right;\n",
       "    }\n",
       "</style>\n",
       "<table border=\"1\" class=\"dataframe\">\n",
       "  <thead>\n",
       "    <tr style=\"text-align: right;\">\n",
       "      <th></th>\n",
       "      <th>day</th>\n",
       "      <th>temperature</th>\n",
       "      <th>rainfall</th>\n",
       "      <th>flyers</th>\n",
       "      <th>price</th>\n",
       "      <th>sales</th>\n",
       "      <th>month</th>\n",
       "    </tr>\n",
       "    <tr>\n",
       "      <th>date</th>\n",
       "      <th></th>\n",
       "      <th></th>\n",
       "      <th></th>\n",
       "      <th></th>\n",
       "      <th></th>\n",
       "      <th></th>\n",
       "      <th></th>\n",
       "    </tr>\n",
       "  </thead>\n",
       "  <tbody>\n",
       "    <tr>\n",
       "      <th>2017-12-31</th>\n",
       "      <td>Sunday</td>\n",
       "      <td>15.1</td>\n",
       "      <td>2.5</td>\n",
       "      <td>9</td>\n",
       "      <td>0.5</td>\n",
       "      <td>7</td>\n",
       "      <td>December</td>\n",
       "    </tr>\n",
       "  </tbody>\n",
       "</table>\n",
       "</div>"
      ],
      "text/plain": [
       "               day  temperature  rainfall  flyers  price  sales     month\n",
       "date                                                                     \n",
       "2017-12-31  Sunday         15.1       2.5       9    0.5      7  December"
      ]
     },
     "execution_count": 15,
     "metadata": {},
     "output_type": "execute_result"
    }
   ],
   "source": [
    "lower_temp_outliers = df[temp_lower > df.temperature]\n",
    "lower_temp_outliers"
   ]
  },
  {
   "cell_type": "code",
   "execution_count": 16,
   "id": "2da6a878",
   "metadata": {},
   "outputs": [],
   "source": [
    "# set upper and lower bound fot df.reinfall\n",
    "rainfall_lower, rainfall_upper = get_lower_and_upper_bounds(df.rainfall)"
   ]
  },
  {
   "cell_type": "code",
   "execution_count": 17,
   "id": "2c62912f",
   "metadata": {},
   "outputs": [
    {
     "data": {
      "text/html": [
       "<div>\n",
       "<style scoped>\n",
       "    .dataframe tbody tr th:only-of-type {\n",
       "        vertical-align: middle;\n",
       "    }\n",
       "\n",
       "    .dataframe tbody tr th {\n",
       "        vertical-align: top;\n",
       "    }\n",
       "\n",
       "    .dataframe thead th {\n",
       "        text-align: right;\n",
       "    }\n",
       "</style>\n",
       "<table border=\"1\" class=\"dataframe\">\n",
       "  <thead>\n",
       "    <tr style=\"text-align: right;\">\n",
       "      <th></th>\n",
       "      <th>day</th>\n",
       "      <th>temperature</th>\n",
       "      <th>rainfall</th>\n",
       "      <th>flyers</th>\n",
       "      <th>price</th>\n",
       "      <th>sales</th>\n",
       "      <th>month</th>\n",
       "    </tr>\n",
       "    <tr>\n",
       "      <th>date</th>\n",
       "      <th></th>\n",
       "      <th></th>\n",
       "      <th></th>\n",
       "      <th></th>\n",
       "      <th></th>\n",
       "      <th></th>\n",
       "      <th></th>\n",
       "    </tr>\n",
       "  </thead>\n",
       "  <tbody>\n",
       "  </tbody>\n",
       "</table>\n",
       "</div>"
      ],
      "text/plain": [
       "Empty DataFrame\n",
       "Columns: [day, temperature, rainfall, flyers, price, sales, month]\n",
       "Index: []"
      ]
     },
     "execution_count": 17,
     "metadata": {},
     "output_type": "execute_result"
    }
   ],
   "source": [
    "# Get the lower outliers for rainfall \n",
    "lower_rainfall_outliers = df[rainfall_lower > df.rainfall]\n",
    "lower_rainfall_outliers"
   ]
  },
  {
   "cell_type": "code",
   "execution_count": 18,
   "id": "5f03cf1d",
   "metadata": {},
   "outputs": [
    {
     "data": {
      "text/html": [
       "<div>\n",
       "<style scoped>\n",
       "    .dataframe tbody tr th:only-of-type {\n",
       "        vertical-align: middle;\n",
       "    }\n",
       "\n",
       "    .dataframe tbody tr th {\n",
       "        vertical-align: top;\n",
       "    }\n",
       "\n",
       "    .dataframe thead th {\n",
       "        text-align: right;\n",
       "    }\n",
       "</style>\n",
       "<table border=\"1\" class=\"dataframe\">\n",
       "  <thead>\n",
       "    <tr style=\"text-align: right;\">\n",
       "      <th></th>\n",
       "      <th>day</th>\n",
       "      <th>temperature</th>\n",
       "      <th>rainfall</th>\n",
       "      <th>flyers</th>\n",
       "      <th>price</th>\n",
       "      <th>sales</th>\n",
       "      <th>month</th>\n",
       "    </tr>\n",
       "    <tr>\n",
       "      <th>date</th>\n",
       "      <th></th>\n",
       "      <th></th>\n",
       "      <th></th>\n",
       "      <th></th>\n",
       "      <th></th>\n",
       "      <th></th>\n",
       "      <th></th>\n",
       "    </tr>\n",
       "  </thead>\n",
       "  <tbody>\n",
       "    <tr>\n",
       "      <th>2017-11-21</th>\n",
       "      <td>Tuesday</td>\n",
       "      <td>47.0</td>\n",
       "      <td>0.95</td>\n",
       "      <td>-38</td>\n",
       "      <td>0.5</td>\n",
       "      <td>20</td>\n",
       "      <td>November</td>\n",
       "    </tr>\n",
       "  </tbody>\n",
       "</table>\n",
       "</div>"
      ],
      "text/plain": [
       "                day  temperature  rainfall  flyers  price  sales     month\n",
       "date                                                                      \n",
       "2017-11-21  Tuesday         47.0      0.95     -38    0.5     20  November"
      ]
     },
     "execution_count": 18,
     "metadata": {},
     "output_type": "execute_result"
    }
   ],
   "source": [
    "# set upper and lower bound fot df.flyers\n",
    "flyers_lower, flyers_upper = get_lower_and_upper_bounds(df.flyers)\n",
    "# Get the lower outliers for flyers \n",
    "lower_flyers_outliers = df[flyers_lower > df.flyers]\n",
    "lower_flyers_outliers"
   ]
  },
  {
   "cell_type": "code",
   "execution_count": 19,
   "id": "03f103f1",
   "metadata": {},
   "outputs": [
    {
     "data": {
      "text/html": [
       "<div>\n",
       "<style scoped>\n",
       "    .dataframe tbody tr th:only-of-type {\n",
       "        vertical-align: middle;\n",
       "    }\n",
       "\n",
       "    .dataframe tbody tr th {\n",
       "        vertical-align: top;\n",
       "    }\n",
       "\n",
       "    .dataframe thead th {\n",
       "        text-align: right;\n",
       "    }\n",
       "</style>\n",
       "<table border=\"1\" class=\"dataframe\">\n",
       "  <thead>\n",
       "    <tr style=\"text-align: right;\">\n",
       "      <th></th>\n",
       "      <th>day</th>\n",
       "      <th>temperature</th>\n",
       "      <th>rainfall</th>\n",
       "      <th>flyers</th>\n",
       "      <th>price</th>\n",
       "      <th>sales</th>\n",
       "      <th>month</th>\n",
       "    </tr>\n",
       "    <tr>\n",
       "      <th>date</th>\n",
       "      <th></th>\n",
       "      <th></th>\n",
       "      <th></th>\n",
       "      <th></th>\n",
       "      <th></th>\n",
       "      <th></th>\n",
       "      <th></th>\n",
       "    </tr>\n",
       "  </thead>\n",
       "  <tbody>\n",
       "  </tbody>\n",
       "</table>\n",
       "</div>"
      ],
      "text/plain": [
       "Empty DataFrame\n",
       "Columns: [day, temperature, rainfall, flyers, price, sales, month]\n",
       "Index: []"
      ]
     },
     "execution_count": 19,
     "metadata": {},
     "output_type": "execute_result"
    }
   ],
   "source": [
    "# set upper and lower bound fot df.price\n",
    "price_lower, price_upper = get_lower_and_upper_bounds(df.price)\n",
    "# Get the lower outliers for price \n",
    "lower_price_outliers = df[price_lower > df.price]\n",
    "lower_price_outliers"
   ]
  },
  {
   "cell_type": "code",
   "execution_count": 20,
   "id": "97feea1b",
   "metadata": {},
   "outputs": [
    {
     "data": {
      "text/html": [
       "<div>\n",
       "<style scoped>\n",
       "    .dataframe tbody tr th:only-of-type {\n",
       "        vertical-align: middle;\n",
       "    }\n",
       "\n",
       "    .dataframe tbody tr th {\n",
       "        vertical-align: top;\n",
       "    }\n",
       "\n",
       "    .dataframe thead th {\n",
       "        text-align: right;\n",
       "    }\n",
       "</style>\n",
       "<table border=\"1\" class=\"dataframe\">\n",
       "  <thead>\n",
       "    <tr style=\"text-align: right;\">\n",
       "      <th></th>\n",
       "      <th>day</th>\n",
       "      <th>temperature</th>\n",
       "      <th>rainfall</th>\n",
       "      <th>flyers</th>\n",
       "      <th>price</th>\n",
       "      <th>sales</th>\n",
       "      <th>month</th>\n",
       "    </tr>\n",
       "    <tr>\n",
       "      <th>date</th>\n",
       "      <th></th>\n",
       "      <th></th>\n",
       "      <th></th>\n",
       "      <th></th>\n",
       "      <th></th>\n",
       "      <th></th>\n",
       "      <th></th>\n",
       "    </tr>\n",
       "  </thead>\n",
       "  <tbody>\n",
       "  </tbody>\n",
       "</table>\n",
       "</div>"
      ],
      "text/plain": [
       "Empty DataFrame\n",
       "Columns: [day, temperature, rainfall, flyers, price, sales, month]\n",
       "Index: []"
      ]
     },
     "execution_count": 20,
     "metadata": {},
     "output_type": "execute_result"
    }
   ],
   "source": [
    "# set upper and lower bound fot df.\n",
    "sales_lower, sales_upper = get_lower_and_upper_bounds(df.sales)\n",
    "# Get the lower outliers for price \n",
    "lower_sales_outliers = df[sales_lower > df.sales]\n",
    "lower_sales_outliers"
   ]
  },
  {
   "cell_type": "markdown",
   "id": "ddf3ffef",
   "metadata": {},
   "source": [
    "\n",
    "Yes, this ouliers make sence. In fact, the only two columns return outliers and are the most minimum values in their range."
   ]
  },
  {
   "cell_type": "markdown",
   "id": "e9f31b7f",
   "metadata": {},
   "source": [
    "# 1.2\n",
    "Use the IQR Range Rule and the upper and upper bounds to identify the upper outliers of each column of lemonade.csv, using the multiplier of 1.5. Do these upper outliers make sense? Which outliers should be kept?"
   ]
  },
  {
   "cell_type": "code",
   "execution_count": 21,
   "id": "a9af7d1a",
   "metadata": {},
   "outputs": [
    {
     "data": {
      "text/html": [
       "<div>\n",
       "<style scoped>\n",
       "    .dataframe tbody tr th:only-of-type {\n",
       "        vertical-align: middle;\n",
       "    }\n",
       "\n",
       "    .dataframe tbody tr th {\n",
       "        vertical-align: top;\n",
       "    }\n",
       "\n",
       "    .dataframe thead th {\n",
       "        text-align: right;\n",
       "    }\n",
       "</style>\n",
       "<table border=\"1\" class=\"dataframe\">\n",
       "  <thead>\n",
       "    <tr style=\"text-align: right;\">\n",
       "      <th></th>\n",
       "      <th>day</th>\n",
       "      <th>temperature</th>\n",
       "      <th>rainfall</th>\n",
       "      <th>flyers</th>\n",
       "      <th>price</th>\n",
       "      <th>sales</th>\n",
       "      <th>month</th>\n",
       "    </tr>\n",
       "    <tr>\n",
       "      <th>date</th>\n",
       "      <th></th>\n",
       "      <th></th>\n",
       "      <th></th>\n",
       "      <th></th>\n",
       "      <th></th>\n",
       "      <th></th>\n",
       "      <th></th>\n",
       "    </tr>\n",
       "  </thead>\n",
       "  <tbody>\n",
       "    <tr>\n",
       "      <th>2017-02-11</th>\n",
       "      <td>Saturday</td>\n",
       "      <td>212.0</td>\n",
       "      <td>0.91</td>\n",
       "      <td>35</td>\n",
       "      <td>0.5</td>\n",
       "      <td>21</td>\n",
       "      <td>February</td>\n",
       "    </tr>\n",
       "  </tbody>\n",
       "</table>\n",
       "</div>"
      ],
      "text/plain": [
       "                 day  temperature  rainfall  flyers  price  sales     month\n",
       "date                                                                       \n",
       "2017-02-11  Saturday        212.0      0.91      35    0.5     21  February"
      ]
     },
     "execution_count": 21,
     "metadata": {},
     "output_type": "execute_result"
    }
   ],
   "source": [
    "upper_temp_outliers = df[temp_upper < df.temperature]\n",
    "upper_temp_outliers"
   ]
  },
  {
   "cell_type": "code",
   "execution_count": 22,
   "id": "c7224007",
   "metadata": {},
   "outputs": [
    {
     "data": {
      "text/html": [
       "<div>\n",
       "<style scoped>\n",
       "    .dataframe tbody tr th:only-of-type {\n",
       "        vertical-align: middle;\n",
       "    }\n",
       "\n",
       "    .dataframe tbody tr th {\n",
       "        vertical-align: top;\n",
       "    }\n",
       "\n",
       "    .dataframe thead th {\n",
       "        text-align: right;\n",
       "    }\n",
       "</style>\n",
       "<table border=\"1\" class=\"dataframe\">\n",
       "  <thead>\n",
       "    <tr style=\"text-align: right;\">\n",
       "      <th></th>\n",
       "      <th>day</th>\n",
       "      <th>temperature</th>\n",
       "      <th>rainfall</th>\n",
       "      <th>flyers</th>\n",
       "      <th>price</th>\n",
       "      <th>sales</th>\n",
       "      <th>month</th>\n",
       "    </tr>\n",
       "    <tr>\n",
       "      <th>date</th>\n",
       "      <th></th>\n",
       "      <th></th>\n",
       "      <th></th>\n",
       "      <th></th>\n",
       "      <th></th>\n",
       "      <th></th>\n",
       "      <th></th>\n",
       "    </tr>\n",
       "  </thead>\n",
       "  <tbody>\n",
       "    <tr>\n",
       "      <th>2017-01-01</th>\n",
       "      <td>Sunday</td>\n",
       "      <td>27.0</td>\n",
       "      <td>2.00</td>\n",
       "      <td>15</td>\n",
       "      <td>0.5</td>\n",
       "      <td>10</td>\n",
       "      <td>January</td>\n",
       "    </tr>\n",
       "    <tr>\n",
       "      <th>2017-01-02</th>\n",
       "      <td>Monday</td>\n",
       "      <td>28.9</td>\n",
       "      <td>1.33</td>\n",
       "      <td>15</td>\n",
       "      <td>0.5</td>\n",
       "      <td>13</td>\n",
       "      <td>January</td>\n",
       "    </tr>\n",
       "    <tr>\n",
       "      <th>2017-01-03</th>\n",
       "      <td>Tuesday</td>\n",
       "      <td>34.5</td>\n",
       "      <td>1.33</td>\n",
       "      <td>27</td>\n",
       "      <td>0.5</td>\n",
       "      <td>15</td>\n",
       "      <td>January</td>\n",
       "    </tr>\n",
       "    <tr>\n",
       "      <th>2017-01-06</th>\n",
       "      <td>Friday</td>\n",
       "      <td>25.3</td>\n",
       "      <td>1.54</td>\n",
       "      <td>23</td>\n",
       "      <td>0.5</td>\n",
       "      <td>11</td>\n",
       "      <td>January</td>\n",
       "    </tr>\n",
       "    <tr>\n",
       "      <th>2017-01-07</th>\n",
       "      <td>Saturday</td>\n",
       "      <td>32.9</td>\n",
       "      <td>1.54</td>\n",
       "      <td>19</td>\n",
       "      <td>0.5</td>\n",
       "      <td>13</td>\n",
       "      <td>January</td>\n",
       "    </tr>\n",
       "    <tr>\n",
       "      <th>2017-01-11</th>\n",
       "      <td>Wednesday</td>\n",
       "      <td>32.6</td>\n",
       "      <td>1.54</td>\n",
       "      <td>23</td>\n",
       "      <td>0.5</td>\n",
       "      <td>12</td>\n",
       "      <td>January</td>\n",
       "    </tr>\n",
       "    <tr>\n",
       "      <th>2017-01-12</th>\n",
       "      <td>Thursday</td>\n",
       "      <td>38.2</td>\n",
       "      <td>1.33</td>\n",
       "      <td>16</td>\n",
       "      <td>0.5</td>\n",
       "      <td>14</td>\n",
       "      <td>January</td>\n",
       "    </tr>\n",
       "    <tr>\n",
       "      <th>2017-01-13</th>\n",
       "      <td>Friday</td>\n",
       "      <td>37.5</td>\n",
       "      <td>1.33</td>\n",
       "      <td>19</td>\n",
       "      <td>0.5</td>\n",
       "      <td>15</td>\n",
       "      <td>January</td>\n",
       "    </tr>\n",
       "    <tr>\n",
       "      <th>2017-01-16</th>\n",
       "      <td>Monday</td>\n",
       "      <td>30.6</td>\n",
       "      <td>1.67</td>\n",
       "      <td>24</td>\n",
       "      <td>0.5</td>\n",
       "      <td>12</td>\n",
       "      <td>January</td>\n",
       "    </tr>\n",
       "    <tr>\n",
       "      <th>2017-01-17</th>\n",
       "      <td>Tuesday</td>\n",
       "      <td>32.2</td>\n",
       "      <td>1.43</td>\n",
       "      <td>26</td>\n",
       "      <td>0.5</td>\n",
       "      <td>14</td>\n",
       "      <td>January</td>\n",
       "    </tr>\n",
       "    <tr>\n",
       "      <th>2017-01-20</th>\n",
       "      <td>Friday</td>\n",
       "      <td>31.6</td>\n",
       "      <td>1.43</td>\n",
       "      <td>20</td>\n",
       "      <td>0.5</td>\n",
       "      <td>12</td>\n",
       "      <td>January</td>\n",
       "    </tr>\n",
       "    <tr>\n",
       "      <th>2017-01-24</th>\n",
       "      <td>Tuesday</td>\n",
       "      <td>28.6</td>\n",
       "      <td>1.54</td>\n",
       "      <td>20</td>\n",
       "      <td>0.5</td>\n",
       "      <td>12</td>\n",
       "      <td>January</td>\n",
       "    </tr>\n",
       "    <tr>\n",
       "      <th>2017-01-28</th>\n",
       "      <td>Saturday</td>\n",
       "      <td>34.9</td>\n",
       "      <td>1.33</td>\n",
       "      <td>15</td>\n",
       "      <td>0.5</td>\n",
       "      <td>13</td>\n",
       "      <td>January</td>\n",
       "    </tr>\n",
       "    <tr>\n",
       "      <th>2017-01-29</th>\n",
       "      <td>Sunday</td>\n",
       "      <td>35.2</td>\n",
       "      <td>1.33</td>\n",
       "      <td>27</td>\n",
       "      <td>0.5</td>\n",
       "      <td>14</td>\n",
       "      <td>January</td>\n",
       "    </tr>\n",
       "    <tr>\n",
       "      <th>2017-12-04</th>\n",
       "      <td>Monday</td>\n",
       "      <td>34.9</td>\n",
       "      <td>1.54</td>\n",
       "      <td>16</td>\n",
       "      <td>0.5</td>\n",
       "      <td>13</td>\n",
       "      <td>December</td>\n",
       "    </tr>\n",
       "    <tr>\n",
       "      <th>2017-12-05</th>\n",
       "      <td>Tuesday</td>\n",
       "      <td>22.0</td>\n",
       "      <td>1.82</td>\n",
       "      <td>11</td>\n",
       "      <td>0.5</td>\n",
       "      <td>10</td>\n",
       "      <td>December</td>\n",
       "    </tr>\n",
       "    <tr>\n",
       "      <th>2017-12-09</th>\n",
       "      <td>Saturday</td>\n",
       "      <td>31.2</td>\n",
       "      <td>1.43</td>\n",
       "      <td>19</td>\n",
       "      <td>0.5</td>\n",
       "      <td>14</td>\n",
       "      <td>December</td>\n",
       "    </tr>\n",
       "    <tr>\n",
       "      <th>2017-12-10</th>\n",
       "      <td>Sunday</td>\n",
       "      <td>31.3</td>\n",
       "      <td>1.82</td>\n",
       "      <td>15</td>\n",
       "      <td>0.5</td>\n",
       "      <td>11</td>\n",
       "      <td>December</td>\n",
       "    </tr>\n",
       "    <tr>\n",
       "      <th>2017-12-12</th>\n",
       "      <td>Tuesday</td>\n",
       "      <td>33.5</td>\n",
       "      <td>1.33</td>\n",
       "      <td>22</td>\n",
       "      <td>0.5</td>\n",
       "      <td>15</td>\n",
       "      <td>December</td>\n",
       "    </tr>\n",
       "    <tr>\n",
       "      <th>2017-12-13</th>\n",
       "      <td>Wednesday</td>\n",
       "      <td>32.2</td>\n",
       "      <td>1.43</td>\n",
       "      <td>26</td>\n",
       "      <td>0.5</td>\n",
       "      <td>14</td>\n",
       "      <td>December</td>\n",
       "    </tr>\n",
       "    <tr>\n",
       "      <th>2017-12-14</th>\n",
       "      <td>Thursday</td>\n",
       "      <td>31.9</td>\n",
       "      <td>1.54</td>\n",
       "      <td>24</td>\n",
       "      <td>0.5</td>\n",
       "      <td>13</td>\n",
       "      <td>December</td>\n",
       "    </tr>\n",
       "    <tr>\n",
       "      <th>2017-12-17</th>\n",
       "      <td>Sunday</td>\n",
       "      <td>32.2</td>\n",
       "      <td>1.33</td>\n",
       "      <td>16</td>\n",
       "      <td>0.5</td>\n",
       "      <td>14</td>\n",
       "      <td>December</td>\n",
       "    </tr>\n",
       "    <tr>\n",
       "      <th>2017-12-18</th>\n",
       "      <td>Monday</td>\n",
       "      <td>30.9</td>\n",
       "      <td>1.43</td>\n",
       "      <td>27</td>\n",
       "      <td>0.5</td>\n",
       "      <td>13</td>\n",
       "      <td>December</td>\n",
       "    </tr>\n",
       "    <tr>\n",
       "      <th>2017-12-21</th>\n",
       "      <td>Thursday</td>\n",
       "      <td>40.5</td>\n",
       "      <td>1.33</td>\n",
       "      <td>23</td>\n",
       "      <td>0.5</td>\n",
       "      <td>15</td>\n",
       "      <td>December</td>\n",
       "    </tr>\n",
       "    <tr>\n",
       "      <th>2017-12-22</th>\n",
       "      <td>Friday</td>\n",
       "      <td>30.9</td>\n",
       "      <td>1.54</td>\n",
       "      <td>17</td>\n",
       "      <td>0.5</td>\n",
       "      <td>13</td>\n",
       "      <td>December</td>\n",
       "    </tr>\n",
       "    <tr>\n",
       "      <th>2017-12-26</th>\n",
       "      <td>Tuesday</td>\n",
       "      <td>28.9</td>\n",
       "      <td>1.43</td>\n",
       "      <td>23</td>\n",
       "      <td>0.5</td>\n",
       "      <td>13</td>\n",
       "      <td>December</td>\n",
       "    </tr>\n",
       "    <tr>\n",
       "      <th>2017-12-30</th>\n",
       "      <td>Saturday</td>\n",
       "      <td>30.9</td>\n",
       "      <td>1.43</td>\n",
       "      <td>22</td>\n",
       "      <td>0.5</td>\n",
       "      <td>13</td>\n",
       "      <td>December</td>\n",
       "    </tr>\n",
       "    <tr>\n",
       "      <th>2017-12-31</th>\n",
       "      <td>Sunday</td>\n",
       "      <td>15.1</td>\n",
       "      <td>2.50</td>\n",
       "      <td>9</td>\n",
       "      <td>0.5</td>\n",
       "      <td>7</td>\n",
       "      <td>December</td>\n",
       "    </tr>\n",
       "  </tbody>\n",
       "</table>\n",
       "</div>"
      ],
      "text/plain": [
       "                  day  temperature  rainfall  flyers  price  sales     month\n",
       "date                                                                        \n",
       "2017-01-01     Sunday         27.0      2.00      15    0.5     10   January\n",
       "2017-01-02     Monday         28.9      1.33      15    0.5     13   January\n",
       "2017-01-03    Tuesday         34.5      1.33      27    0.5     15   January\n",
       "2017-01-06     Friday         25.3      1.54      23    0.5     11   January\n",
       "2017-01-07   Saturday         32.9      1.54      19    0.5     13   January\n",
       "2017-01-11  Wednesday         32.6      1.54      23    0.5     12   January\n",
       "2017-01-12   Thursday         38.2      1.33      16    0.5     14   January\n",
       "2017-01-13     Friday         37.5      1.33      19    0.5     15   January\n",
       "2017-01-16     Monday         30.6      1.67      24    0.5     12   January\n",
       "2017-01-17    Tuesday         32.2      1.43      26    0.5     14   January\n",
       "2017-01-20     Friday         31.6      1.43      20    0.5     12   January\n",
       "2017-01-24    Tuesday         28.6      1.54      20    0.5     12   January\n",
       "2017-01-28   Saturday         34.9      1.33      15    0.5     13   January\n",
       "2017-01-29     Sunday         35.2      1.33      27    0.5     14   January\n",
       "2017-12-04     Monday         34.9      1.54      16    0.5     13  December\n",
       "2017-12-05    Tuesday         22.0      1.82      11    0.5     10  December\n",
       "2017-12-09   Saturday         31.2      1.43      19    0.5     14  December\n",
       "2017-12-10     Sunday         31.3      1.82      15    0.5     11  December\n",
       "2017-12-12    Tuesday         33.5      1.33      22    0.5     15  December\n",
       "2017-12-13  Wednesday         32.2      1.43      26    0.5     14  December\n",
       "2017-12-14   Thursday         31.9      1.54      24    0.5     13  December\n",
       "2017-12-17     Sunday         32.2      1.33      16    0.5     14  December\n",
       "2017-12-18     Monday         30.9      1.43      27    0.5     13  December\n",
       "2017-12-21   Thursday         40.5      1.33      23    0.5     15  December\n",
       "2017-12-22     Friday         30.9      1.54      17    0.5     13  December\n",
       "2017-12-26    Tuesday         28.9      1.43      23    0.5     13  December\n",
       "2017-12-30   Saturday         30.9      1.43      22    0.5     13  December\n",
       "2017-12-31     Sunday         15.1      2.50       9    0.5      7  December"
      ]
     },
     "execution_count": 22,
     "metadata": {},
     "output_type": "execute_result"
    }
   ],
   "source": [
    "upper_rainfall_outliers = df[rainfall_upper < df.rainfall]\n",
    "upper_rainfall_outliers"
   ]
  },
  {
   "cell_type": "code",
   "execution_count": 23,
   "id": "682a2764",
   "metadata": {},
   "outputs": [
    {
     "data": {
      "text/plain": [
       "count    365.000000\n",
       "mean       0.825973\n",
       "std        0.273890\n",
       "min        0.400000\n",
       "25%        0.650000\n",
       "50%        0.740000\n",
       "75%        0.910000\n",
       "max        2.500000\n",
       "Name: rainfall, dtype: float64"
      ]
     },
     "execution_count": 23,
     "metadata": {},
     "output_type": "execute_result"
    }
   ],
   "source": [
    "df.rainfall.describe()"
   ]
  },
  {
   "cell_type": "markdown",
   "id": "4f13f496",
   "metadata": {},
   "source": [
    "There are a lot of outliers in this range. I would keep all records within three standard deviations, meaning anything below 1.55"
   ]
  },
  {
   "cell_type": "code",
   "execution_count": 24,
   "id": "19ca84a4",
   "metadata": {},
   "outputs": [
    {
     "data": {
      "text/html": [
       "<div>\n",
       "<style scoped>\n",
       "    .dataframe tbody tr th:only-of-type {\n",
       "        vertical-align: middle;\n",
       "    }\n",
       "\n",
       "    .dataframe tbody tr th {\n",
       "        vertical-align: top;\n",
       "    }\n",
       "\n",
       "    .dataframe thead th {\n",
       "        text-align: right;\n",
       "    }\n",
       "</style>\n",
       "<table border=\"1\" class=\"dataframe\">\n",
       "  <thead>\n",
       "    <tr style=\"text-align: right;\">\n",
       "      <th></th>\n",
       "      <th>day</th>\n",
       "      <th>temperature</th>\n",
       "      <th>rainfall</th>\n",
       "      <th>flyers</th>\n",
       "      <th>price</th>\n",
       "      <th>sales</th>\n",
       "      <th>month</th>\n",
       "    </tr>\n",
       "    <tr>\n",
       "      <th>date</th>\n",
       "      <th></th>\n",
       "      <th></th>\n",
       "      <th></th>\n",
       "      <th></th>\n",
       "      <th></th>\n",
       "      <th></th>\n",
       "      <th></th>\n",
       "    </tr>\n",
       "  </thead>\n",
       "  <tbody>\n",
       "  </tbody>\n",
       "</table>\n",
       "</div>"
      ],
      "text/plain": [
       "Empty DataFrame\n",
       "Columns: [day, temperature, rainfall, flyers, price, sales, month]\n",
       "Index: []"
      ]
     },
     "execution_count": 24,
     "metadata": {},
     "output_type": "execute_result"
    }
   ],
   "source": [
    "upper_flyers_outliers = df[temp_upper < df.flyers]\n",
    "upper_flyers_outliers"
   ]
  },
  {
   "cell_type": "code",
   "execution_count": 25,
   "id": "4bc49b55",
   "metadata": {},
   "outputs": [
    {
     "data": {
      "text/html": [
       "<div>\n",
       "<style scoped>\n",
       "    .dataframe tbody tr th:only-of-type {\n",
       "        vertical-align: middle;\n",
       "    }\n",
       "\n",
       "    .dataframe tbody tr th {\n",
       "        vertical-align: top;\n",
       "    }\n",
       "\n",
       "    .dataframe thead th {\n",
       "        text-align: right;\n",
       "    }\n",
       "</style>\n",
       "<table border=\"1\" class=\"dataframe\">\n",
       "  <thead>\n",
       "    <tr style=\"text-align: right;\">\n",
       "      <th></th>\n",
       "      <th>day</th>\n",
       "      <th>temperature</th>\n",
       "      <th>rainfall</th>\n",
       "      <th>flyers</th>\n",
       "      <th>price</th>\n",
       "      <th>sales</th>\n",
       "      <th>month</th>\n",
       "    </tr>\n",
       "    <tr>\n",
       "      <th>date</th>\n",
       "      <th></th>\n",
       "      <th></th>\n",
       "      <th></th>\n",
       "      <th></th>\n",
       "      <th></th>\n",
       "      <th></th>\n",
       "      <th></th>\n",
       "    </tr>\n",
       "  </thead>\n",
       "  <tbody>\n",
       "  </tbody>\n",
       "</table>\n",
       "</div>"
      ],
      "text/plain": [
       "Empty DataFrame\n",
       "Columns: [day, temperature, rainfall, flyers, price, sales, month]\n",
       "Index: []"
      ]
     },
     "execution_count": 25,
     "metadata": {},
     "output_type": "execute_result"
    }
   ],
   "source": [
    "upper_price_outliers = df[temp_upper < df.price]\n",
    "upper_price_outliers"
   ]
  },
  {
   "cell_type": "code",
   "execution_count": 26,
   "id": "fd2838e8",
   "metadata": {
    "scrolled": true
   },
   "outputs": [
    {
     "data": {
      "text/html": [
       "<div>\n",
       "<style scoped>\n",
       "    .dataframe tbody tr th:only-of-type {\n",
       "        vertical-align: middle;\n",
       "    }\n",
       "\n",
       "    .dataframe tbody tr th {\n",
       "        vertical-align: top;\n",
       "    }\n",
       "\n",
       "    .dataframe thead th {\n",
       "        text-align: right;\n",
       "    }\n",
       "</style>\n",
       "<table border=\"1\" class=\"dataframe\">\n",
       "  <thead>\n",
       "    <tr style=\"text-align: right;\">\n",
       "      <th></th>\n",
       "      <th>day</th>\n",
       "      <th>temperature</th>\n",
       "      <th>rainfall</th>\n",
       "      <th>flyers</th>\n",
       "      <th>price</th>\n",
       "      <th>sales</th>\n",
       "      <th>month</th>\n",
       "    </tr>\n",
       "    <tr>\n",
       "      <th>date</th>\n",
       "      <th></th>\n",
       "      <th></th>\n",
       "      <th></th>\n",
       "      <th></th>\n",
       "      <th></th>\n",
       "      <th></th>\n",
       "      <th></th>\n",
       "    </tr>\n",
       "  </thead>\n",
       "  <tbody>\n",
       "    <tr>\n",
       "      <th>2017-07-01</th>\n",
       "      <td>Saturday</td>\n",
       "      <td>102.9</td>\n",
       "      <td>0.47</td>\n",
       "      <td>59</td>\n",
       "      <td>0.5</td>\n",
       "      <td>143</td>\n",
       "      <td>July</td>\n",
       "    </tr>\n",
       "    <tr>\n",
       "      <th>2017-07-02</th>\n",
       "      <td>Sunday</td>\n",
       "      <td>93.4</td>\n",
       "      <td>0.51</td>\n",
       "      <td>68</td>\n",
       "      <td>0.5</td>\n",
       "      <td>158</td>\n",
       "      <td>July</td>\n",
       "    </tr>\n",
       "    <tr>\n",
       "      <th>2017-07-03</th>\n",
       "      <td>Monday</td>\n",
       "      <td>81.5</td>\n",
       "      <td>0.54</td>\n",
       "      <td>68</td>\n",
       "      <td>0.5</td>\n",
       "      <td>235</td>\n",
       "      <td>July</td>\n",
       "    </tr>\n",
       "    <tr>\n",
       "      <th>2017-07-04</th>\n",
       "      <td>Tuesday</td>\n",
       "      <td>84.2</td>\n",
       "      <td>0.59</td>\n",
       "      <td>49</td>\n",
       "      <td>0.5</td>\n",
       "      <td>534</td>\n",
       "      <td>July</td>\n",
       "    </tr>\n",
       "  </tbody>\n",
       "</table>\n",
       "</div>"
      ],
      "text/plain": [
       "                 day  temperature  rainfall  flyers  price  sales month\n",
       "date                                                                   \n",
       "2017-07-01  Saturday        102.9      0.47      59    0.5    143  July\n",
       "2017-07-02    Sunday         93.4      0.51      68    0.5    158  July\n",
       "2017-07-03    Monday         81.5      0.54      68    0.5    235  July\n",
       "2017-07-04   Tuesday         84.2      0.59      49    0.5    534  July"
      ]
     },
     "execution_count": 26,
     "metadata": {},
     "output_type": "execute_result"
    }
   ],
   "source": [
    "upper_sales_outliers = df[temp_upper < df.sales]\n",
    "upper_sales_outliers"
   ]
  },
  {
   "cell_type": "code",
   "execution_count": 27,
   "id": "db8bd930",
   "metadata": {},
   "outputs": [
    {
     "data": {
      "text/plain": [
       "count    365.000000\n",
       "mean      27.865753\n",
       "std       30.948132\n",
       "min        7.000000\n",
       "25%       20.000000\n",
       "50%       25.000000\n",
       "75%       30.000000\n",
       "max      534.000000\n",
       "Name: sales, dtype: float64"
      ]
     },
     "execution_count": 27,
     "metadata": {},
     "output_type": "execute_result"
    }
   ],
   "source": [
    "df.sales.describe()"
   ]
  },
  {
   "cell_type": "code",
   "execution_count": 28,
   "id": "60cf9ef4",
   "metadata": {},
   "outputs": [
    {
     "data": {
      "text/plain": [
       "25.0"
      ]
     },
     "execution_count": 28,
     "metadata": {},
     "output_type": "execute_result"
    }
   ],
   "source": [
    "#calculate 3 standar diviations for sales\n",
    "df.sales.describe()[5]"
   ]
  },
  {
   "cell_type": "code",
   "execution_count": 29,
   "id": "20fb1aef",
   "metadata": {},
   "outputs": [],
   "source": [
    "std = df.sales.describe()[2]\n",
    "mid = df.sales.describe()[5]"
   ]
  },
  {
   "cell_type": "code",
   "execution_count": 30,
   "id": "e3b494dc",
   "metadata": {},
   "outputs": [
    {
     "data": {
      "text/plain": [
       "117.84439595691894"
      ]
     },
     "execution_count": 30,
     "metadata": {},
     "output_type": "execute_result"
    }
   ],
   "source": [
    "# Upper limit for outliers \n",
    "mid + std + std + std "
   ]
  },
  {
   "cell_type": "markdown",
   "id": "0489417c",
   "metadata": {},
   "source": [
    "Eliminate outliers in the sales colum taht are above 117.844"
   ]
  },
  {
   "cell_type": "markdown",
   "id": "8afc936f",
   "metadata": {},
   "source": [
    "# 1.3\n",
    "Using the multiplier of 3, IQR Range Rule, and the lower bounds, identify the outliers below the lower bound in each colum of lemonade.csv. Do these lower outliers make sense? Which outliers should be kept?"
   ]
  },
  {
   "cell_type": "code",
   "execution_count": 31,
   "id": "a3980ad6",
   "metadata": {},
   "outputs": [],
   "source": [
    "# create a list with the name of the vaibles we want to find the lower and the upper limits to \n",
    "new_cols = ['temperature', 'rainfall', 'flyers', 'price', 'sales']"
   ]
  },
  {
   "cell_type": "code",
   "execution_count": 32,
   "id": "fa677dff",
   "metadata": {},
   "outputs": [],
   "source": [
    "# This for loop attachess the upper and the lower limmits by using get_lower_and_upper_bounds function \n",
    "#we create a dictionay that holds all the values and attaches and record of the data frame\n",
    "multiplier_of_3 = {}\n",
    "for col in new_cols:\n",
    "    lower, upper = get_lower_and_upper_bounds(df[col], multiplier = 3)\n",
    "    multiplier_of_3[col] = {'upper' : upper, 'lower' : lower}\n",
    "    multiplier_of_3[col]['df'] = df[(df[col] > upper) | (df[col] < lower)]"
   ]
  },
  {
   "cell_type": "code",
   "execution_count": 33,
   "id": "d13e3f7b",
   "metadata": {},
   "outputs": [
    {
     "data": {
      "text/html": [
       "<div>\n",
       "<style scoped>\n",
       "    .dataframe tbody tr th:only-of-type {\n",
       "        vertical-align: middle;\n",
       "    }\n",
       "\n",
       "    .dataframe tbody tr th {\n",
       "        vertical-align: top;\n",
       "    }\n",
       "\n",
       "    .dataframe thead th {\n",
       "        text-align: right;\n",
       "    }\n",
       "</style>\n",
       "<table border=\"1\" class=\"dataframe\">\n",
       "  <thead>\n",
       "    <tr style=\"text-align: right;\">\n",
       "      <th></th>\n",
       "      <th>day</th>\n",
       "      <th>temperature</th>\n",
       "      <th>rainfall</th>\n",
       "      <th>flyers</th>\n",
       "      <th>price</th>\n",
       "      <th>sales</th>\n",
       "      <th>month</th>\n",
       "    </tr>\n",
       "    <tr>\n",
       "      <th>date</th>\n",
       "      <th></th>\n",
       "      <th></th>\n",
       "      <th></th>\n",
       "      <th></th>\n",
       "      <th></th>\n",
       "      <th></th>\n",
       "      <th></th>\n",
       "    </tr>\n",
       "  </thead>\n",
       "  <tbody>\n",
       "    <tr>\n",
       "      <th>2017-02-11</th>\n",
       "      <td>Saturday</td>\n",
       "      <td>212.0</td>\n",
       "      <td>0.91</td>\n",
       "      <td>35</td>\n",
       "      <td>0.5</td>\n",
       "      <td>21</td>\n",
       "      <td>February</td>\n",
       "    </tr>\n",
       "  </tbody>\n",
       "</table>\n",
       "</div>"
      ],
      "text/plain": [
       "                 day  temperature  rainfall  flyers  price  sales     month\n",
       "date                                                                       \n",
       "2017-02-11  Saturday        212.0      0.91      35    0.5     21  February"
      ]
     },
     "execution_count": 33,
     "metadata": {},
     "output_type": "execute_result"
    }
   ],
   "source": [
    "multiplier_of_3['temperature']['df']"
   ]
  },
  {
   "cell_type": "code",
   "execution_count": 34,
   "id": "4bfb1113",
   "metadata": {},
   "outputs": [
    {
     "data": {
      "text/plain": [
       "['temperature', 'rainfall', 'flyers', 'price', 'sales']"
      ]
     },
     "execution_count": 34,
     "metadata": {},
     "output_type": "execute_result"
    }
   ],
   "source": [
    "list(multiplier_of_3.keys())"
   ]
  },
  {
   "cell_type": "code",
   "execution_count": 35,
   "id": "3781ebf7",
   "metadata": {},
   "outputs": [
    {
     "data": {
      "text/plain": [
       "{'temperature': {'upper': 137.7,\n",
       "  'lower': -16.299999999999997,\n",
       "  'df':                  day  temperature  rainfall  flyers  price  sales     month\n",
       "  date                                                                       \n",
       "  2017-02-11  Saturday        212.0      0.91      35    0.5     21  February},\n",
       " 'rainfall': {'upper': 1.69,\n",
       "  'lower': -0.13,\n",
       "  'df':                 day  temperature  rainfall  flyers  price  sales     month\n",
       "  date                                                                      \n",
       "  2017-01-01   Sunday         27.0      2.00      15    0.5     10   January\n",
       "  2017-12-05  Tuesday         22.0      1.82      11    0.5     10  December\n",
       "  2017-12-10   Sunday         31.3      1.82      15    0.5     11  December\n",
       "  2017-12-31   Sunday         15.1      2.50       9    0.5      7  December},\n",
       " 'flyers': {'upper': 103.0,\n",
       "  'lower': -23.0,\n",
       "  'df':                 day  temperature  rainfall  flyers  price  sales     month\n",
       "  date                                                                      \n",
       "  2017-11-21  Tuesday         47.0      0.95     -38    0.5     20  November},\n",
       " 'price': {'upper': 0.5,\n",
       "  'lower': 0.5,\n",
       "  'df': Empty DataFrame\n",
       "  Columns: [day, temperature, rainfall, flyers, price, sales, month]\n",
       "  Index: []},\n",
       " 'sales': {'upper': 60.0,\n",
       "  'lower': -10.0,\n",
       "  'df':                  day  temperature  rainfall  flyers  price  sales month\n",
       "  date                                                                   \n",
       "  2017-07-01  Saturday        102.9      0.47      59    0.5    143  July\n",
       "  2017-07-02    Sunday         93.4      0.51      68    0.5    158  July\n",
       "  2017-07-03    Monday         81.5      0.54      68    0.5    235  July\n",
       "  2017-07-04   Tuesday         84.2      0.59      49    0.5    534  July}}"
      ]
     },
     "execution_count": 35,
     "metadata": {},
     "output_type": "execute_result"
    }
   ],
   "source": [
    "multiplier_of_3"
   ]
  },
  {
   "cell_type": "code",
   "execution_count": 36,
   "id": "3baec86f",
   "metadata": {},
   "outputs": [
    {
     "ename": "AttributeError",
     "evalue": "'dict' object has no attribute 'lower'",
     "output_type": "error",
     "traceback": [
      "\u001b[0;31m---------------------------------------------------------------------------\u001b[0m",
      "\u001b[0;31mAttributeError\u001b[0m                            Traceback (most recent call last)",
      "\u001b[0;32m<ipython-input-36-f6e8a98c1412>\u001b[0m in \u001b[0;36m<module>\u001b[0;34m\u001b[0m\n\u001b[0;32m----> 1\u001b[0;31m \u001b[0;32mfor\u001b[0m \u001b[0m_\u001b[0m\u001b[0;34m.\u001b[0m\u001b[0mlower\u001b[0m \u001b[0;32min\u001b[0m \u001b[0mmultiplier_of_3\u001b[0m\u001b[0;34m:\u001b[0m\u001b[0;34m\u001b[0m\u001b[0;34m\u001b[0m\u001b[0m\n\u001b[0m\u001b[1;32m      2\u001b[0m     \u001b[0mprint\u001b[0m\u001b[0;34m(\u001b[0m\u001b[0mlower\u001b[0m\u001b[0;34m)\u001b[0m\u001b[0;34m\u001b[0m\u001b[0;34m\u001b[0m\u001b[0m\n",
      "\u001b[0;31mAttributeError\u001b[0m: 'dict' object has no attribute 'lower'"
     ]
    }
   ],
   "source": [
    "for _.lower in multiplier_of_3:\n",
    "    print(lower)"
   ]
  },
  {
   "cell_type": "code",
   "execution_count": 37,
   "id": "eca1567f",
   "metadata": {},
   "outputs": [],
   "source": [
    "for col in multiplier_of_3:\n",
    "    multiplier_of_3[col]['lower']"
   ]
  },
  {
   "cell_type": "markdown",
   "id": "4c8d4e80",
   "metadata": {},
   "source": [
    "# 1.4\n",
    "Using the multiplier of 3, IQR Range Rule, and the upper bounds, identify the outliers above the upper_bound in each colum of lemonade.csv. Do these upper outliers make sense? Which outliers should be kept?"
   ]
  },
  {
   "cell_type": "code",
   "execution_count": 38,
   "id": "8f1ae830",
   "metadata": {},
   "outputs": [
    {
     "data": {
      "text/html": [
       "<div>\n",
       "<style scoped>\n",
       "    .dataframe tbody tr th:only-of-type {\n",
       "        vertical-align: middle;\n",
       "    }\n",
       "\n",
       "    .dataframe tbody tr th {\n",
       "        vertical-align: top;\n",
       "    }\n",
       "\n",
       "    .dataframe thead th {\n",
       "        text-align: right;\n",
       "    }\n",
       "</style>\n",
       "<table border=\"1\" class=\"dataframe\">\n",
       "  <thead>\n",
       "    <tr style=\"text-align: right;\">\n",
       "      <th></th>\n",
       "      <th>0</th>\n",
       "      <th>1</th>\n",
       "      <th>2</th>\n",
       "      <th>3</th>\n",
       "      <th>4</th>\n",
       "    </tr>\n",
       "  </thead>\n",
       "  <tbody>\n",
       "    <tr>\n",
       "      <th>feature</th>\n",
       "      <td>temperature</td>\n",
       "      <td>rainfall</td>\n",
       "      <td>flyers</td>\n",
       "      <td>price</td>\n",
       "      <td>sales</td>\n",
       "    </tr>\n",
       "    <tr>\n",
       "      <th>lower_bound</th>\n",
       "      <td>16.7</td>\n",
       "      <td>0.26</td>\n",
       "      <td>4.0</td>\n",
       "      <td>0.5</td>\n",
       "      <td>5.0</td>\n",
       "    </tr>\n",
       "    <tr>\n",
       "      <th>upper_bound</th>\n",
       "      <td>104.7</td>\n",
       "      <td>1.3</td>\n",
       "      <td>76.0</td>\n",
       "      <td>0.5</td>\n",
       "      <td>45.0</td>\n",
       "    </tr>\n",
       "  </tbody>\n",
       "</table>\n",
       "</div>"
      ],
      "text/plain": [
       "                       0         1       2      3      4\n",
       "feature      temperature  rainfall  flyers  price  sales\n",
       "lower_bound         16.7      0.26     4.0    0.5    5.0\n",
       "upper_bound        104.7       1.3    76.0    0.5   45.0"
      ]
     },
     "execution_count": 38,
     "metadata": {},
     "output_type": "execute_result"
    }
   ],
   "source": [
    "# let's add an empty dataframe to store the lower and upper bounds\n",
    "outer_bounds_df = pd.DataFrame(columns = ['feature', 'lower_bound', 'upper_bound'])\n",
    "\n",
    "for column in df.select_dtypes(exclude = 'object'):\n",
    "    lower, upper = get_lower_and_upper_bounds(df[column])\n",
    "    l_df = {'feature':column, 'lower_bound':lower, 'upper_bound':upper}\n",
    "    outer_bounds_df = outer_bounds_df.append(l_df, ignore_index = True)\n",
    "    \n",
    "outer_bounds_df.T"
   ]
  },
  {
   "cell_type": "code",
   "execution_count": 40,
   "id": "a10fed8c",
   "metadata": {},
   "outputs": [
    {
     "data": {
      "text/html": [
       "<div>\n",
       "<style scoped>\n",
       "    .dataframe tbody tr th:only-of-type {\n",
       "        vertical-align: middle;\n",
       "    }\n",
       "\n",
       "    .dataframe tbody tr th {\n",
       "        vertical-align: top;\n",
       "    }\n",
       "\n",
       "    .dataframe thead th {\n",
       "        text-align: right;\n",
       "    }\n",
       "</style>\n",
       "<table border=\"1\" class=\"dataframe\">\n",
       "  <thead>\n",
       "    <tr style=\"text-align: right;\">\n",
       "      <th></th>\n",
       "      <th>temperature</th>\n",
       "      <th>rainfall</th>\n",
       "      <th>flyers</th>\n",
       "      <th>price</th>\n",
       "      <th>sales</th>\n",
       "    </tr>\n",
       "  </thead>\n",
       "  <tbody>\n",
       "    <tr>\n",
       "      <th>count</th>\n",
       "      <td>365.000000</td>\n",
       "      <td>365.000000</td>\n",
       "      <td>365.000000</td>\n",
       "      <td>365.0</td>\n",
       "      <td>365.000000</td>\n",
       "    </tr>\n",
       "    <tr>\n",
       "      <th>mean</th>\n",
       "      <td>61.224658</td>\n",
       "      <td>0.825973</td>\n",
       "      <td>40.104110</td>\n",
       "      <td>0.5</td>\n",
       "      <td>27.865753</td>\n",
       "    </tr>\n",
       "    <tr>\n",
       "      <th>std</th>\n",
       "      <td>18.085892</td>\n",
       "      <td>0.273890</td>\n",
       "      <td>13.786445</td>\n",
       "      <td>0.0</td>\n",
       "      <td>30.948132</td>\n",
       "    </tr>\n",
       "    <tr>\n",
       "      <th>min</th>\n",
       "      <td>15.100000</td>\n",
       "      <td>0.400000</td>\n",
       "      <td>-38.000000</td>\n",
       "      <td>0.5</td>\n",
       "      <td>7.000000</td>\n",
       "    </tr>\n",
       "    <tr>\n",
       "      <th>25%</th>\n",
       "      <td>49.700000</td>\n",
       "      <td>0.650000</td>\n",
       "      <td>31.000000</td>\n",
       "      <td>0.5</td>\n",
       "      <td>20.000000</td>\n",
       "    </tr>\n",
       "    <tr>\n",
       "      <th>50%</th>\n",
       "      <td>61.100000</td>\n",
       "      <td>0.740000</td>\n",
       "      <td>39.000000</td>\n",
       "      <td>0.5</td>\n",
       "      <td>25.000000</td>\n",
       "    </tr>\n",
       "    <tr>\n",
       "      <th>75%</th>\n",
       "      <td>71.700000</td>\n",
       "      <td>0.910000</td>\n",
       "      <td>49.000000</td>\n",
       "      <td>0.5</td>\n",
       "      <td>30.000000</td>\n",
       "    </tr>\n",
       "    <tr>\n",
       "      <th>max</th>\n",
       "      <td>212.000000</td>\n",
       "      <td>2.500000</td>\n",
       "      <td>80.000000</td>\n",
       "      <td>0.5</td>\n",
       "      <td>534.000000</td>\n",
       "    </tr>\n",
       "  </tbody>\n",
       "</table>\n",
       "</div>"
      ],
      "text/plain": [
       "       temperature    rainfall      flyers  price       sales\n",
       "count   365.000000  365.000000  365.000000  365.0  365.000000\n",
       "mean     61.224658    0.825973   40.104110    0.5   27.865753\n",
       "std      18.085892    0.273890   13.786445    0.0   30.948132\n",
       "min      15.100000    0.400000  -38.000000    0.5    7.000000\n",
       "25%      49.700000    0.650000   31.000000    0.5   20.000000\n",
       "50%      61.100000    0.740000   39.000000    0.5   25.000000\n",
       "75%      71.700000    0.910000   49.000000    0.5   30.000000\n",
       "max     212.000000    2.500000   80.000000    0.5  534.000000"
      ]
     },
     "execution_count": 40,
     "metadata": {},
     "output_type": "execute_result"
    }
   ],
   "source": [
    "df.select_dtypes(exclude = 'object').describe()"
   ]
  },
  {
   "cell_type": "markdown",
   "id": "3e5c893e",
   "metadata": {},
   "source": [
    "# 2\n",
    "Identify if any columns in lemonade.csv are normally distributed. For normally distributed columns:\n",
    "\n",
    "2.1 Use a 2 sigma decision rule to isolate the outliers.\n",
    "\n",
    "2.1.1 Do these make sense?\n",
    "\n",
    "2.1.2Should certain outliers be kept or removed?\n",
    " "
   ]
  },
  {
   "cell_type": "code",
   "execution_count": 9,
   "id": "d436f387",
   "metadata": {
    "scrolled": true
   },
   "outputs": [
    {
     "data": {
      "image/png": "[encoded data removed]",
      "text/plain": [
       "<Figure size 720x360 with 1 Axes>"
      ]
     },
     "metadata": {
      "needs_background": "light"
     },
     "output_type": "display_data"
    }
   ],
   "source": [
    "# ploit data and viculize posibele outliers for tempeerature\n",
    "plt.figure(figsize=(10,5))\n",
    "plt.scatter(df.month, df.temperature)\n",
    "plt.ylabel(\"Degrees Fahrenheit\")\n",
    "plt.show()"
   ]
  },
  {
   "cell_type": "code",
   "execution_count": 10,
   "id": "cc9541ca",
   "metadata": {},
   "outputs": [
    {
     "data": {
      "image/png": "[encoded data removed]",
      "text/plain": [
       "<Figure size 720x360 with 1 Axes>"
      ]
     },
     "metadata": {
      "needs_background": "light"
     },
     "output_type": "display_data"
    }
   ],
   "source": [
    "# ploit data and viculize posibele outliers for rainfall\n",
    "plt.figure(figsize=(10,5))\n",
    "plt.scatter(df.month, df.rainfall)\n",
    "plt.ylabel(\"Rainfall\")\n",
    "plt.show()"
   ]
  },
  {
   "cell_type": "code",
   "execution_count": 11,
   "id": "da8af793",
   "metadata": {},
   "outputs": [
    {
     "data": {
      "image/png": "[encoded data removed]",
      "text/plain": [
       "<Figure size 720x360 with 1 Axes>"
      ]
     },
     "metadata": {
      "needs_background": "light"
     },
     "output_type": "display_data"
    }
   ],
   "source": [
    "# ploit data and viculize posibele outliers for flyers\n",
    "plt.figure(figsize=(10,5))\n",
    "plt.scatter(df.month, df.flyers)\n",
    "plt.ylabel(\"Rainfall\")\n",
    "plt.show()"
   ]
  },
  {
   "cell_type": "code",
   "execution_count": 12,
   "id": "4322fddb",
   "metadata": {},
   "outputs": [
    {
     "data": {
      "image/png": "[encoded data removed]",
      "text/plain": [
       "<Figure size 720x360 with 1 Axes>"
      ]
     },
     "metadata": {
      "needs_background": "light"
     },
     "output_type": "display_data"
    }
   ],
   "source": [
    "# ploit data and viculize posibele outliers for price\n",
    "plt.figure(figsize=(10,5))\n",
    "plt.scatter(df.month, df.price)\n",
    "plt.ylabel(\"Price\")\n",
    "plt.show()"
   ]
  },
  {
   "cell_type": "code",
   "execution_count": 13,
   "id": "85d7e691",
   "metadata": {},
   "outputs": [
    {
     "data": {
      "image/png": "[encoded data removed]",
      "text/plain": [
       "<Figure size 720x360 with 1 Axes>"
      ]
     },
     "metadata": {
      "needs_background": "light"
     },
     "output_type": "display_data"
    }
   ],
   "source": [
    "# ploit data and viculize posibele outliers for sales \n",
    "plt.figure(figsize=(10,5))\n",
    "plt.scatter(df.month, df.sales)\n",
    "plt.ylabel(\"Sales\")\n",
    "plt.show()"
   ]
  },
  {
   "cell_type": "code",
   "execution_count": 42,
   "id": "bac390b4",
   "metadata": {},
   "outputs": [
    {
     "data": {
      "text/plain": [
       "['day', 'temperature', 'rainfall', 'flyers', 'price', 'sales', 'month']"
      ]
     },
     "execution_count": 42,
     "metadata": {},
     "output_type": "execute_result"
    }
   ],
   "source": [
    "columns_csv"
   ]
  },
  {
   "cell_type": "code",
   "execution_count": 45,
   "id": "8f84371b",
   "metadata": {},
   "outputs": [],
   "source": [
    "# let's create new columns to store the zvalues for the normally distributed columns:\n",
    "for column in df[['temperature', 'rainfall', 'flyers', 'sales']]:\n",
    "    df[column+'_zscore'] = (df[column] - df[column].mean())/df[column].std()"
   ]
  },
  {
   "cell_type": "code",
   "execution_count": 61,
   "id": "ab22c617",
   "metadata": {},
   "outputs": [
    {
     "name": "stdout",
     "output_type": "stream",
     "text": [
      "------------------temperature_zscore---------------------------\n",
      "                 day  temperature  rainfall  flyers  price  sales     month  \\\n",
      "date                                                                          \n",
      "2017-02-11  Saturday        212.0      0.91      35    0.5     21  February   \n",
      "2017-06-16    Friday         99.3      0.47      77    0.5     41      June   \n",
      "2017-06-26    Monday        102.6      0.47      60    0.5     42      June   \n",
      "2017-07-01  Saturday        102.9      0.47      59    0.5    143      July   \n",
      "2017-07-10    Monday         98.0      0.49      66    0.5     40      July   \n",
      "2017-07-18   Tuesday         99.3      0.47      76    0.5     41      July   \n",
      "2017-07-22  Saturday         99.6      0.47      49    0.5     42      July   \n",
      "2017-07-27  Thursday         97.9      0.47      74    0.5     43      July   \n",
      "2017-12-05   Tuesday         22.0      1.82      11    0.5     10  December   \n",
      "2017-12-31    Sunday         15.1      2.50       9    0.5      7  December   \n",
      "\n",
      "            temperature_zscore  rainfall_zscore  flyers_zscore  sales_zscore  \n",
      "date                                                                          \n",
      "2017-02-11            8.336627         0.306792      -0.370227     -0.221847  \n",
      "2017-06-16            2.105251        -1.299691       2.676244      0.424395  \n",
      "2017-06-26            2.287714        -1.299691       1.443149      0.456708  \n",
      "2017-07-01            2.304301        -1.299691       1.370614      3.720233  \n",
      "2017-07-10            2.033372        -1.226669       1.878359      0.392083  \n",
      "2017-07-18            2.105251        -1.299691       2.603709      0.424395  \n",
      "2017-07-22            2.121838        -1.299691       0.645264      0.456708  \n",
      "2017-07-27            2.027843        -1.299691       2.458639      0.489020  \n",
      "2017-12-05           -2.168799         3.629291      -2.111067     -0.577281  \n",
      "2017-12-31           -2.550311         6.112037      -2.256137     -0.674217  \n",
      "-------------------------------------------------------\n",
      "------------------rainfall_zscore---------------------------\n",
      "                  day  temperature  rainfall  flyers  price  sales     month  \\\n",
      "date                                                                           \n",
      "2017-01-01     Sunday         27.0      2.00      15    0.5     10   January   \n",
      "2017-01-06     Friday         25.3      1.54      23    0.5     11   January   \n",
      "2017-01-07   Saturday         32.9      1.54      19    0.5     13   January   \n",
      "2017-01-11  Wednesday         32.6      1.54      23    0.5     12   January   \n",
      "2017-01-16     Monday         30.6      1.67      24    0.5     12   January   \n",
      "2017-01-17    Tuesday         32.2      1.43      26    0.5     14   January   \n",
      "2017-01-20     Friday         31.6      1.43      20    0.5     12   January   \n",
      "2017-01-24    Tuesday         28.6      1.54      20    0.5     12   January   \n",
      "2017-12-04     Monday         34.9      1.54      16    0.5     13  December   \n",
      "2017-12-05    Tuesday         22.0      1.82      11    0.5     10  December   \n",
      "2017-12-09   Saturday         31.2      1.43      19    0.5     14  December   \n",
      "2017-12-10     Sunday         31.3      1.82      15    0.5     11  December   \n",
      "2017-12-13  Wednesday         32.2      1.43      26    0.5     14  December   \n",
      "2017-12-14   Thursday         31.9      1.54      24    0.5     13  December   \n",
      "2017-12-18     Monday         30.9      1.43      27    0.5     13  December   \n",
      "2017-12-22     Friday         30.9      1.54      17    0.5     13  December   \n",
      "2017-12-26    Tuesday         28.9      1.43      23    0.5     13  December   \n",
      "2017-12-30   Saturday         30.9      1.43      22    0.5     13  December   \n",
      "2017-12-31     Sunday         15.1      2.50       9    0.5      7  December   \n",
      "\n",
      "            temperature_zscore  rainfall_zscore  flyers_zscore  sales_zscore  \n",
      "date                                                                          \n",
      "2017-01-01           -1.892340         4.286488      -1.820927     -0.577281  \n",
      "2017-01-06           -1.986336         2.606983      -1.240647     -0.544968  \n",
      "2017-01-07           -1.566119         2.606983      -1.530787     -0.480344  \n",
      "2017-01-11           -1.582706         2.606983      -1.240647     -0.512656  \n",
      "2017-01-16           -1.693290         3.081626      -1.168112     -0.512656  \n",
      "2017-01-17           -1.604823         2.205363      -1.023042     -0.448032  \n",
      "2017-01-20           -1.637998         2.205363      -1.458252     -0.512656  \n",
      "2017-01-24           -1.803873         2.606983      -1.458252     -0.512656  \n",
      "2017-12-04           -1.455535         2.606983      -1.748392     -0.480344  \n",
      "2017-12-05           -2.168799         3.629291      -2.111067     -0.577281  \n",
      "2017-12-09           -1.660115         2.205363      -1.530787     -0.448032  \n",
      "2017-12-10           -1.654586         3.629291      -1.820927     -0.544968  \n",
      "2017-12-13           -1.604823         2.205363      -1.023042     -0.448032  \n",
      "2017-12-14           -1.621411         2.606983      -1.168112     -0.480344  \n",
      "2017-12-18           -1.676702         2.205363      -0.950507     -0.480344  \n",
      "2017-12-22           -1.676702         2.606983      -1.675857     -0.480344  \n",
      "2017-12-26           -1.787286         2.205363      -1.240647     -0.480344  \n",
      "2017-12-30           -1.676702         2.205363      -1.313182     -0.480344  \n",
      "2017-12-31           -2.550311         6.112037      -2.256137     -0.674217  \n",
      "-------------------------------------------------------\n",
      "------------------flyers_zscore---------------------------\n",
      "                  day  temperature  rainfall  flyers  price  sales     month  \\\n",
      "date                                                                           \n",
      "2017-06-16     Friday         99.3      0.47      77    0.5     41      June   \n",
      "2017-06-20    Tuesday         85.1      0.54      70    0.5     37      June   \n",
      "2017-06-21  Wednesday         94.3      0.47      76    0.5     41      June   \n",
      "2017-07-02     Sunday         93.4      0.51      68    0.5    158      July   \n",
      "2017-07-03     Monday         81.5      0.54      68    0.5    235      July   \n",
      "2017-07-14     Friday         92.0      0.50      80    0.5     40      July   \n",
      "2017-07-18    Tuesday         99.3      0.47      76    0.5     41      July   \n",
      "2017-07-23     Sunday         89.1      0.51      72    0.5     37      July   \n",
      "2017-07-24     Monday         83.5      0.57      69    0.5     35      July   \n",
      "2017-07-27   Thursday         97.9      0.47      74    0.5     43      July   \n",
      "2017-11-21    Tuesday         47.0      0.95     -38    0.5     20  November   \n",
      "2017-12-05    Tuesday         22.0      1.82      11    0.5     10  December   \n",
      "2017-12-31     Sunday         15.1      2.50       9    0.5      7  December   \n",
      "\n",
      "            temperature_zscore  rainfall_zscore  flyers_zscore  sales_zscore  \n",
      "date                                                                          \n",
      "2017-06-16            2.105251        -1.299691       2.676244      0.424395  \n",
      "2017-06-20            1.320109        -1.044114       2.168499      0.295147  \n",
      "2017-06-21            1.828792        -1.299691       2.603709      0.424395  \n",
      "2017-07-02            1.779030        -1.153647       2.023429      4.204914  \n",
      "2017-07-03            1.121058        -1.044114       2.023429      6.692948  \n",
      "2017-07-14            1.701621        -1.190158       2.893849      0.392083  \n",
      "2017-07-18            2.105251        -1.299691       2.603709      0.424395  \n",
      "2017-07-23            1.541275        -1.153647       2.313569      0.295147  \n",
      "2017-07-24            1.231642        -0.934581       2.095964      0.230523  \n",
      "2017-07-27            2.027843        -1.299691       2.458639      0.489020  \n",
      "2017-11-21           -0.786506         0.452836      -5.665283     -0.254159  \n",
      "2017-12-05           -2.168799         3.629291      -2.111067     -0.577281  \n",
      "2017-12-31           -2.550311         6.112037      -2.256137     -0.674217  \n",
      "-------------------------------------------------------\n",
      "------------------sales_zscore---------------------------\n",
      "                 day  temperature  rainfall  flyers  price  sales month  \\\n",
      "date                                                                      \n",
      "2017-07-01  Saturday        102.9      0.47      59    0.5    143  July   \n",
      "2017-07-02    Sunday         93.4      0.51      68    0.5    158  July   \n",
      "2017-07-03    Monday         81.5      0.54      68    0.5    235  July   \n",
      "2017-07-04   Tuesday         84.2      0.59      49    0.5    534  July   \n",
      "\n",
      "            temperature_zscore  rainfall_zscore  flyers_zscore  sales_zscore  \n",
      "date                                                                          \n",
      "2017-07-01            2.304301        -1.299691       1.370614      3.720233  \n",
      "2017-07-02            1.779030        -1.153647       2.023429      4.204914  \n",
      "2017-07-03            1.121058        -1.044114       2.023429      6.692948  \n",
      "2017-07-04            1.270346        -0.861559       0.645264     16.354275  \n",
      "-------------------------------------------------------\n"
     ]
    }
   ],
   "source": [
    "df_2sigma_outliers = pd.DataFrame()\n",
    "for column in df[['temperature_zscore', 'rainfall_zscore', 'flyers_zscore', 'sales_zscore']]:\n",
    "    print(f'------------------{column}---------------------------')\n",
    "    print(df_2sigma_outliers.append(df[df[column].abs() >= 2]))\n",
    "    print(f'-------------------------------------------------------')\n",
    "\n"
   ]
  },
  {
   "cell_type": "markdown",
   "id": "b6678f96",
   "metadata": {},
   "source": [
    "## 2 sigma\n",
    "- Temperature:\n",
    "    - There is one day where the temperature is over 200n degrees. That is not posible\n",
    "- Rainfall:\n",
    "    - They all look with in the 2 sigam range \n",
    "- Flayer:\n",
    "    - there is one oulier that goes as far as far as -38\n",
    "    - That is over 5 sigma distance\n",
    "- Sales Look ok\n",
    "\n"
   ]
  },
  {
   "cell_type": "markdown",
   "id": "9cee220e",
   "metadata": {},
   "source": [
    "## 3 sigma"
   ]
  },
  {
   "cell_type": "code",
   "execution_count": 62,
   "id": "31148178",
   "metadata": {
    "scrolled": true
   },
   "outputs": [
    {
     "name": "stdout",
     "output_type": "stream",
     "text": [
      "------------------temperature_zscore---------------------------\n",
      "                 day  temperature  rainfall  flyers  price  sales     month  \\\n",
      "date                                                                          \n",
      "2017-02-11  Saturday        212.0      0.91      35    0.5     21  February   \n",
      "\n",
      "            temperature_zscore  rainfall_zscore  flyers_zscore  sales_zscore  \n",
      "date                                                                          \n",
      "2017-02-11            8.336627         0.306792      -0.370227     -0.221847  \n",
      "-------------------------------------------------------\n",
      "------------------rainfall_zscore---------------------------\n",
      "                day  temperature  rainfall  flyers  price  sales     month  \\\n",
      "date                                                                         \n",
      "2017-01-01   Sunday         27.0      2.00      15    0.5     10   January   \n",
      "2017-01-16   Monday         30.6      1.67      24    0.5     12   January   \n",
      "2017-12-05  Tuesday         22.0      1.82      11    0.5     10  December   \n",
      "2017-12-10   Sunday         31.3      1.82      15    0.5     11  December   \n",
      "2017-12-31   Sunday         15.1      2.50       9    0.5      7  December   \n",
      "\n",
      "            temperature_zscore  rainfall_zscore  flyers_zscore  sales_zscore  \n",
      "date                                                                          \n",
      "2017-01-01           -1.892340         4.286488      -1.820927     -0.577281  \n",
      "2017-01-16           -1.693290         3.081626      -1.168112     -0.512656  \n",
      "2017-12-05           -2.168799         3.629291      -2.111067     -0.577281  \n",
      "2017-12-10           -1.654586         3.629291      -1.820927     -0.544968  \n",
      "2017-12-31           -2.550311         6.112037      -2.256137     -0.674217  \n",
      "-------------------------------------------------------\n",
      "------------------flyers_zscore---------------------------\n",
      "                day  temperature  rainfall  flyers  price  sales     month  \\\n",
      "date                                                                         \n",
      "2017-11-21  Tuesday         47.0      0.95     -38    0.5     20  November   \n",
      "\n",
      "            temperature_zscore  rainfall_zscore  flyers_zscore  sales_zscore  \n",
      "date                                                                          \n",
      "2017-11-21           -0.786506         0.452836      -5.665283     -0.254159  \n",
      "-------------------------------------------------------\n"
     ]
    }
   ],
   "source": [
    "df_3sigma_outliers = pd.DataFrame()\n",
    "for column in df[['temperature_zscore', 'rainfall_zscore', 'flyers_zscore']]:\n",
    "    print(f'------------------{column}---------------------------')\n",
    "    print(df_2sigma_outliers.append(df[df[column].abs() >= 3]))\n",
    "    print(f'-------------------------------------------------------')"
   ]
  },
  {
   "cell_type": "code",
   "execution_count": null,
   "id": "d7991460",
   "metadata": {},
   "outputs": [],
   "source": []
  }
 ],
 "metadata": {
  "kernelspec": {
   "display_name": "Python 3.8.8 64-bit ('base': conda)",
   "language": "python",
   "name": "python388jvsc74a57bd038cca0c38332a56087b24af0bc80247f4fced29cb4f7f437d91dc159adec9c4e"
  },
  "language_info": {
   "codemirror_mode": {
    "name": "ipython",
    "version": 3
   },
   "file_extension": ".py",
   "mimetype": "text/x-python",
   "name": "python",
   "nbconvert_exporter": "python",
   "pygments_lexer": "ipython3",
   "version": "3.8.8"
  }
 },
 "nbformat": 4,
 "nbformat_minor": 5
}
